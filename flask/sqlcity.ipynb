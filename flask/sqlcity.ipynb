{
 "metadata": {
  "language_info": {
   "codemirror_mode": {
    "name": "ipython",
    "version": 3
   },
   "file_extension": ".py",
   "mimetype": "text/x-python",
   "name": "python",
   "nbconvert_exporter": "python",
   "pygments_lexer": "ipython3",
   "version": "3.7.9-final"
  },
  "orig_nbformat": 2,
  "kernelspec": {
   "name": "python3",
   "display_name": "Python 3",
   "language": "python"
  }
 },
 "nbformat": 4,
 "nbformat_minor": 2,
 "cells": [
  {
   "cell_type": "code",
   "execution_count": 1,
   "metadata": {},
   "outputs": [],
   "source": [
    "# Dependencies\n",
    "# ----------------------------------\n",
    "# Imports the method used for connecting to DBs\n",
    "from sqlalchemy import create_engine\n",
    "\n",
    "\n",
    "# Imports the methods needed to abstract classes into tables\n",
    "from sqlalchemy.ext.declarative import declarative_base\n",
    "\n",
    "# Allow us to declare column types\n",
    "from sqlalchemy import Column, Integer, String, Float, DateTime\n",
    "\n",
    "#Import Pandas\n",
    "import pandas as pd"
   ]
  },
  {
   "cell_type": "code",
   "execution_count": 2,
   "metadata": {},
   "outputs": [],
   "source": [
    "# Sets an object to utilize the default declarative base in SQL Alchemy\n",
    "Base = declarative_base()\n",
    "\n",
    "# Creates Classes which will serve as the anchor points for our Tables\n",
    "class historicalcity(Base):\n",
    "    __tablename__ = 'weather_city_hist'\n",
    "    index = Column(Integer, primary_key=True)\n",
    "    date = Column(String)\n",
    "    city = Column(String)\n",
    "    latitude= Column(Integer)\n",
    "    longitude = Column(Integer)\n",
    "    uv_index = Column(Integer)"
   ]
  },
  {
   "cell_type": "code",
   "execution_count": 3,
   "metadata": {},
   "outputs": [],
   "source": [
    "data_file = \"hstr_data_city.csv\""
   ]
  },
  {
   "cell_type": "code",
   "execution_count": 4,
   "metadata": {},
   "outputs": [
    {
     "output_type": "execute_result",
     "data": {
      "text/plain": [
       "                  date         city  latitude  longitude  uv_index\n",
       "0  2020-01-01 12:00:00       Albany  -35.0228   117.8814     12.58\n",
       "1  2020-01-01 12:00:00      Augusta  -34.3120   115.1590     12.96\n",
       "2  2020-01-01 12:00:00   Australind  -33.2792   115.7150     13.22\n",
       "3  2020-01-01 12:00:00  Bakers Hill  -31.7510   116.4550     13.66\n",
       "4  2020-01-01 12:00:00      Bentley  -32.0010   115.9240     13.32"
      ],
      "text/html": "<div>\n<style scoped>\n    .dataframe tbody tr th:only-of-type {\n        vertical-align: middle;\n    }\n\n    .dataframe tbody tr th {\n        vertical-align: top;\n    }\n\n    .dataframe thead th {\n        text-align: right;\n    }\n</style>\n<table border=\"1\" class=\"dataframe\">\n  <thead>\n    <tr style=\"text-align: right;\">\n      <th></th>\n      <th>date</th>\n      <th>city</th>\n      <th>latitude</th>\n      <th>longitude</th>\n      <th>uv_index</th>\n    </tr>\n  </thead>\n  <tbody>\n    <tr>\n      <th>0</th>\n      <td>2020-01-01 12:00:00</td>\n      <td>Albany</td>\n      <td>-35.0228</td>\n      <td>117.8814</td>\n      <td>12.58</td>\n    </tr>\n    <tr>\n      <th>1</th>\n      <td>2020-01-01 12:00:00</td>\n      <td>Augusta</td>\n      <td>-34.3120</td>\n      <td>115.1590</td>\n      <td>12.96</td>\n    </tr>\n    <tr>\n      <th>2</th>\n      <td>2020-01-01 12:00:00</td>\n      <td>Australind</td>\n      <td>-33.2792</td>\n      <td>115.7150</td>\n      <td>13.22</td>\n    </tr>\n    <tr>\n      <th>3</th>\n      <td>2020-01-01 12:00:00</td>\n      <td>Bakers Hill</td>\n      <td>-31.7510</td>\n      <td>116.4550</td>\n      <td>13.66</td>\n    </tr>\n    <tr>\n      <th>4</th>\n      <td>2020-01-01 12:00:00</td>\n      <td>Bentley</td>\n      <td>-32.0010</td>\n      <td>115.9240</td>\n      <td>13.32</td>\n    </tr>\n  </tbody>\n</table>\n</div>"
     },
     "metadata": {},
     "execution_count": 4
    }
   ],
   "source": [
    "df_file_city = pd.read_csv(data_file)\n",
    "df_file_city.head()"
   ]
  },
  {
   "cell_type": "code",
   "execution_count": 5,
   "metadata": {},
   "outputs": [
    {
     "output_type": "stream",
     "name": "stdout",
     "text": [
      "2021-01-16 10:42:05,229 INFO sqlalchemy.engine.base.Engine SELECT CAST('test plain returns' AS VARCHAR(60)) AS anon_1\n",
      "2021-01-16 10:42:05,232 INFO sqlalchemy.engine.base.Engine ()\n",
      "2021-01-16 10:42:05,239 INFO sqlalchemy.engine.base.Engine SELECT CAST('test unicode returns' AS VARCHAR(60)) AS anon_1\n",
      "2021-01-16 10:42:05,245 INFO sqlalchemy.engine.base.Engine ()\n"
     ]
    }
   ],
   "source": [
    "engine = create_engine('sqlite:///histcity.sqlite', echo=True)\n",
    "sqlite_connection = engine.connect()"
   ]
  },
  {
   "cell_type": "code",
   "execution_count": 6,
   "metadata": {},
   "outputs": [
    {
     "output_type": "stream",
     "name": "stdout",
     "text": [
      "2021-01-16 10:42:11,868 INFO sqlalchemy.engine.base.Engine PRAGMA main.table_info(\"weather_city_hist\")\n",
      "2021-01-16 10:42:11,870 INFO sqlalchemy.engine.base.Engine ()\n",
      "2021-01-16 10:42:11,878 INFO sqlalchemy.engine.base.Engine PRAGMA temp.table_info(\"weather_city_hist\")\n",
      "2021-01-16 10:42:11,881 INFO sqlalchemy.engine.base.Engine ()\n",
      "2021-01-16 10:42:11,887 INFO sqlalchemy.engine.base.Engine \n",
      "CREATE TABLE weather_city_hist (\n",
      "\t\"index\" BIGINT, \n",
      "\tdate TEXT, \n",
      "\tcity TEXT, \n",
      "\tlatitude FLOAT, \n",
      "\tlongitude FLOAT, \n",
      "\tuv_index FLOAT\n",
      ")\n",
      "\n",
      "\n",
      "2021-01-16 10:42:11,890 INFO sqlalchemy.engine.base.Engine ()\n",
      "2021-01-16 10:42:11,914 INFO sqlalchemy.engine.base.Engine COMMIT\n",
      "2021-01-16 10:42:11,917 INFO sqlalchemy.engine.base.Engine CREATE INDEX ix_weather_city_hist_index ON weather_city_hist (\"index\")\n",
      "2021-01-16 10:42:11,919 INFO sqlalchemy.engine.base.Engine ()\n",
      "2021-01-16 10:42:11,942 INFO sqlalchemy.engine.base.Engine COMMIT\n",
      "2021-01-16 10:42:11,954 INFO sqlalchemy.engine.base.Engine BEGIN (implicit)\n",
      "2021-01-16 10:42:11,968 INFO sqlalchemy.engine.base.Engine INSERT INTO weather_city_hist (\"index\", date, city, latitude, longitude, uv_index) VALUES (?, ?, ?, ?, ?, ?)\n",
      "2021-01-16 10:42:11,970 INFO sqlalchemy.engine.base.Engine ((0, '2020-01-01 12:00:00', 'Albany', -35.0228, 117.8814, 12.58), (1, '2020-01-01 12:00:00', 'Augusta', -34.312, 115.159, 12.96), (2, '2020-01-01 12:00:00', 'Australind', -33.2792, 115.715, 13.22), (3, '2020-01-01 12:00:00', 'Bakers Hill', -31.751, 116.455, 13.66), (4, '2020-01-01 12:00:00', 'Bentley', -32.001, 115.924, 13.32), (5, '2020-01-01 12:00:00', 'Beverley', -32.109, 116.926, 13.61), (6, '2020-01-01 12:00:00', 'Bindoon', -31.38, 116.097, 13.84), (7, '2020-01-01 12:00:00', 'Binningup', -33.149, 115.689, 13.22)  ... displaying 10 of 166 total bound parameter sets ...  (164, '2020-01-02 12:00:00', 'York', -31.8883, 116.7686, 13.93), (165, '2020-01-02 12:00:00', 'Yunderup', -32.5833, 115.8, 13.08))\n",
      "2021-01-16 10:42:11,977 INFO sqlalchemy.engine.base.Engine COMMIT\n"
     ]
    }
   ],
   "source": [
    "sqlite_table = \"weather_city_hist\"\n",
    "df_file_city.to_sql(sqlite_table, sqlite_connection, if_exists='fail')"
   ]
  },
  {
   "cell_type": "code",
   "execution_count": 7,
   "metadata": {},
   "outputs": [
    {
     "output_type": "stream",
     "name": "stdout",
     "text": [
      "2021-01-16 10:42:16,768 INFO sqlalchemy.engine.base.Engine PRAGMA main.table_info(\"weather_city_hist\")\n",
      "2021-01-16 10:42:16,770 INFO sqlalchemy.engine.base.Engine ()\n"
     ]
    }
   ],
   "source": [
    "# Create a \"Metadata\" Layer That Abstracts our SQL Database\n",
    "# ----------------------------------\n",
    "# Create (if not already in existence) the tables associated with our classes.\n",
    "Base.metadata.create_all(engine)\n",
    "\n",
    "# Use this to clear out the db\n",
    "# ----------------------------------\n",
    "# Base.metadata.drop_all(engine)"
   ]
  },
  {
   "cell_type": "code",
   "execution_count": 8,
   "metadata": {},
   "outputs": [],
   "source": [
    "# Create a Session Object to Connect to DB\n",
    "# ----------------------------------\n",
    "# Session is a temporary binding to our DB\n",
    "from sqlalchemy.orm import Session\n",
    "session = Session(bind=engine)"
   ]
  },
  {
   "cell_type": "code",
   "execution_count": 9,
   "metadata": {},
   "outputs": [
    {
     "output_type": "stream",
     "name": "stdout",
     "text": [
      "2021-01-16 10:42:24,306 INFO sqlalchemy.engine.base.Engine BEGIN (implicit)\n",
      "2021-01-16 10:42:24,309 INFO sqlalchemy.engine.base.Engine SELECT weather_city_hist.\"index\" AS weather_city_hist_index, weather_city_hist.date AS weather_city_hist_date, weather_city_hist.city AS weather_city_hist_city, weather_city_hist.latitude AS weather_city_hist_latitude, weather_city_hist.longitude AS weather_city_hist_longitude, weather_city_hist.uv_index AS weather_city_hist_uv_index \n",
      "FROM weather_city_hist\n",
      "2021-01-16 10:42:24,312 INFO sqlalchemy.engine.base.Engine ()\n",
      "Albany\n",
      "Augusta\n",
      "Australind\n",
      "Bakers Hill\n",
      "Bentley\n",
      "Beverley\n",
      "Bindoon\n",
      "Binningup\n",
      "Boddington\n",
      "Boyanup\n",
      "Bridgetown\n",
      "Broome\n",
      "Bullsbrook\n",
      "Bunbury\n",
      "Busselton\n",
      "Cannington\n",
      "Capel\n",
      "Carnarvon\n",
      "Chidlow\n",
      "Collie\n",
      "Cowaramup\n",
      "Dampier\n",
      "Denmark\n",
      "Derby\n",
      "Dongara\n",
      "Donnybrook\n",
      "Drummond Cove\n",
      "Dunsborough\n",
      "Esperance\n",
      "Exmouth\n",
      "Fitzroy Crossing\n",
      "Fremantle\n",
      "Geraldton\n",
      "Halls Creek\n",
      "Harvey\n",
      "Jarrahdale\n",
      "Jurien Bay\n",
      "Kalbarri\n",
      "Kalgoorlie\n",
      "Kambalda\n",
      "Kambalda West\n",
      "Karratha\n",
      "Katanning\n",
      "Kojonup\n",
      "Kununurra\n",
      "Kwinana\n",
      "Leschenault\n",
      "Lesmurdie\n",
      "Little Grove\n",
      "Lower Chittering\n",
      "Lower King\n",
      "Mandurah\n",
      "Manjimup\n",
      "Margaret River\n",
      "Merredin\n",
      "Moora\n",
      "Mount Barker\n",
      "Mundijong\n",
      "Narrogin\n",
      "Newman\n",
      "Northam\n",
      "Nullagine\n",
      "Paraburdoo\n",
      "Perth\n",
      "Pinjarra\n",
      "Port Denison\n",
      "Port Hedland\n",
      "Quindalup\n",
      "Ravenswood\n",
      "Serpentine\n",
      "Tom Price\n",
      "Toodyay\n",
      "Two Rocks\n",
      "Vasse\n",
      "Wagin\n",
      "Waroona\n",
      "Wickham\n",
      "Wooroloo\n",
      "Wundowie\n",
      "Yallingup\n",
      "Yanchep\n",
      "York\n",
      "Yunderup\n",
      "Albany\n",
      "Augusta\n",
      "Australind\n",
      "Bakers Hill\n",
      "Bentley\n",
      "Beverley\n",
      "Bindoon\n",
      "Binningup\n",
      "Boddington\n",
      "Boyanup\n",
      "Bridgetown\n",
      "Broome\n",
      "Bullsbrook\n",
      "Bunbury\n",
      "Busselton\n",
      "Cannington\n",
      "Capel\n",
      "Carnarvon\n",
      "Chidlow\n",
      "Collie\n",
      "Cowaramup\n",
      "Dampier\n",
      "Denmark\n",
      "Derby\n",
      "Dongara\n",
      "Donnybrook\n",
      "Drummond Cove\n",
      "Dunsborough\n",
      "Esperance\n",
      "Exmouth\n",
      "Fitzroy Crossing\n",
      "Fremantle\n",
      "Geraldton\n",
      "Halls Creek\n",
      "Harvey\n",
      "Jarrahdale\n",
      "Jurien Bay\n",
      "Kalbarri\n",
      "Kalgoorlie\n",
      "Kambalda\n",
      "Kambalda West\n",
      "Karratha\n",
      "Katanning\n",
      "Kojonup\n",
      "Kununurra\n",
      "Kwinana\n",
      "Leschenault\n",
      "Lesmurdie\n",
      "Little Grove\n",
      "Lower Chittering\n",
      "Lower King\n",
      "Mandurah\n",
      "Manjimup\n",
      "Margaret River\n",
      "Merredin\n",
      "Moora\n",
      "Mount Barker\n",
      "Mundijong\n",
      "Narrogin\n",
      "Newman\n",
      "Northam\n",
      "Nullagine\n",
      "Paraburdoo\n",
      "Perth\n",
      "Pinjarra\n",
      "Port Denison\n",
      "Port Hedland\n",
      "Quindalup\n",
      "Ravenswood\n",
      "Serpentine\n",
      "Tom Price\n",
      "Toodyay\n",
      "Two Rocks\n",
      "Vasse\n",
      "Wagin\n",
      "Waroona\n",
      "Wickham\n",
      "Wooroloo\n",
      "Wundowie\n",
      "Yallingup\n",
      "Yanchep\n",
      "York\n",
      "Yunderup\n"
     ]
    }
   ],
   "source": [
    "# Query the Tables\n",
    "# ----------------------------------\n",
    "# Perform a simple query of the database\n",
    "weather_list = session.query(historicalcity)\n",
    "for weather in weather_list:\n",
    "    print(weather.city)"
   ]
  },
  {
   "cell_type": "code",
   "execution_count": null,
   "metadata": {},
   "outputs": [],
   "source": []
  }
 ]
}