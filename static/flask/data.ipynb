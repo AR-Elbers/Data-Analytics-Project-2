{
 "metadata": {
  "language_info": {
   "codemirror_mode": {
    "name": "ipython",
    "version": 3
   },
   "file_extension": ".py",
   "mimetype": "text/x-python",
   "name": "python",
   "nbconvert_exporter": "python",
   "pygments_lexer": "ipython3",
   "version": "3.7.9-final"
  },
  "orig_nbformat": 2,
  "kernelspec": {
   "name": "python3",
   "display_name": "Python 3",
   "language": "python"
  }
 },
 "nbformat": 4,
 "nbformat_minor": 2,
 "cells": [
  {
   "cell_type": "code",
   "execution_count": 21,
   "metadata": {},
   "outputs": [],
   "source": [
    "# Dependencies\n",
    "# ----------------------------------\n",
    "# # Pandas\n",
    "import pandas as pd\n",
    "\n",
    "# Imports the method used for connecting to DBs\n",
    "from sqlalchemy import create_engine\n",
    "\n",
    "# Imports the methods needed to abstract classes into tables\n",
    "from sqlalchemy.ext.declarative import declarative_base\n",
    "\n",
    "# Allow us to declare column types\n",
    "from sqlalchemy import Column, Integer, String, Float, Date, Numeric"
   ]
  },
  {
   "cell_type": "code",
   "execution_count": 22,
   "metadata": {},
   "outputs": [],
   "source": [
    " # Create hstr_data\n",
    " # Creates Classes which will serve as the anchor points for our Tables\n",
    "\n",
    " # Sets an object to utilize the default declarative base in SQL Alchemy\n",
    "Base = declarative_base()\n",
    "\n",
    "# Creates Classes which will serve as the anchor points for our Tables\n",
    "class Historical(Base):\n",
    "    __tablename__ = 'historical'\n",
    "    id = Column(Integer, primary_key=True)\n",
    "    date = Column(Date)\n",
    "    latitude = Column(Integer)\n",
    "    longitude = Column(Integer)\n",
    "    uv_index = Column(Numeric)"
   ]
  },
  {
   "cell_type": "code",
   "execution_count": 41,
   "metadata": {},
   "outputs": [],
   "source": [
    "data_file = \"hstr_data.csv\""
   ]
  },
  {
   "cell_type": "code",
   "execution_count": 42,
   "metadata": {},
   "outputs": [
    {
     "output_type": "execute_result",
     "data": {
      "text/plain": [
       "                  date  latitude  longitude  uv_index\n",
       "0  2018-01-09 12:00:00       -36        112     12.51\n",
       "1  2018-01-09 12:00:00       -36        116     12.15\n",
       "2  2018-01-09 12:00:00       -36        120     11.27\n",
       "3  2018-01-09 12:00:00       -36        124     11.26\n",
       "4  2018-01-09 12:00:00       -36        128     11.85"
      ],
      "text/html": "<div>\n<style scoped>\n    .dataframe tbody tr th:only-of-type {\n        vertical-align: middle;\n    }\n\n    .dataframe tbody tr th {\n        vertical-align: top;\n    }\n\n    .dataframe thead th {\n        text-align: right;\n    }\n</style>\n<table border=\"1\" class=\"dataframe\">\n  <thead>\n    <tr style=\"text-align: right;\">\n      <th></th>\n      <th>date</th>\n      <th>latitude</th>\n      <th>longitude</th>\n      <th>uv_index</th>\n    </tr>\n  </thead>\n  <tbody>\n    <tr>\n      <th>0</th>\n      <td>2018-01-09 12:00:00</td>\n      <td>-36</td>\n      <td>112</td>\n      <td>12.51</td>\n    </tr>\n    <tr>\n      <th>1</th>\n      <td>2018-01-09 12:00:00</td>\n      <td>-36</td>\n      <td>116</td>\n      <td>12.15</td>\n    </tr>\n    <tr>\n      <th>2</th>\n      <td>2018-01-09 12:00:00</td>\n      <td>-36</td>\n      <td>120</td>\n      <td>11.27</td>\n    </tr>\n    <tr>\n      <th>3</th>\n      <td>2018-01-09 12:00:00</td>\n      <td>-36</td>\n      <td>124</td>\n      <td>11.26</td>\n    </tr>\n    <tr>\n      <th>4</th>\n      <td>2018-01-09 12:00:00</td>\n      <td>-36</td>\n      <td>128</td>\n      <td>11.85</td>\n    </tr>\n  </tbody>\n</table>\n</div>"
     },
     "metadata": {},
     "execution_count": 42
    }
   ],
   "source": [
    "df_file = pd.read_csv(data_file)\n",
    "df_file.head()"
   ]
  },
  {
   "cell_type": "code",
   "execution_count": 44,
   "metadata": {},
   "outputs": [
    {
     "output_type": "error",
     "ename": "AttributeError",
     "evalue": "'DataFrame' object has no attribute 'uv_idex'",
     "traceback": [
      "\u001b[1;31m---------------------------------------------------------------------------\u001b[0m",
      "\u001b[1;31mAttributeError\u001b[0m                            Traceback (most recent call last)",
      "\u001b[1;32m<ipython-input-44-ae6578616efe>\u001b[0m in \u001b[0;36m<module>\u001b[1;34m\u001b[0m\n\u001b[1;32m----> 1\u001b[1;33m \u001b[0mhistorical\u001b[0m \u001b[1;33m=\u001b[0m \u001b[0mHistorical\u001b[0m\u001b[1;33m(\u001b[0m\u001b[0mdate\u001b[0m\u001b[1;33m=\u001b[0m\u001b[0mdf_file\u001b[0m\u001b[1;33m.\u001b[0m\u001b[0mdate\u001b[0m\u001b[1;33m,\u001b[0m \u001b[0mlatitude\u001b[0m\u001b[1;33m=\u001b[0m\u001b[0mdf_file\u001b[0m\u001b[1;33m.\u001b[0m\u001b[0mlatitude\u001b[0m\u001b[1;33m,\u001b[0m \u001b[0mlongitude\u001b[0m\u001b[1;33m=\u001b[0m\u001b[0mdf_file\u001b[0m\u001b[1;33m.\u001b[0m\u001b[0mlongitude\u001b[0m\u001b[1;33m,\u001b[0m \u001b[0muv_index\u001b[0m\u001b[1;33m=\u001b[0m\u001b[0mdf_file\u001b[0m\u001b[1;33m.\u001b[0m\u001b[0muv_idex\u001b[0m\u001b[1;33m)\u001b[0m\u001b[1;33m\u001b[0m\u001b[1;33m\u001b[0m\u001b[0m\n\u001b[0m",
      "\u001b[1;32m~\\Anaconda3\\envs\\homework\\lib\\site-packages\\pandas\\core\\generic.py\u001b[0m in \u001b[0;36m__getattr__\u001b[1;34m(self, name)\u001b[0m\n\u001b[0;32m   5128\u001b[0m             \u001b[1;32mif\u001b[0m \u001b[0mself\u001b[0m\u001b[1;33m.\u001b[0m\u001b[0m_info_axis\u001b[0m\u001b[1;33m.\u001b[0m\u001b[0m_can_hold_identifiers_and_holds_name\u001b[0m\u001b[1;33m(\u001b[0m\u001b[0mname\u001b[0m\u001b[1;33m)\u001b[0m\u001b[1;33m:\u001b[0m\u001b[1;33m\u001b[0m\u001b[1;33m\u001b[0m\u001b[0m\n\u001b[0;32m   5129\u001b[0m                 \u001b[1;32mreturn\u001b[0m \u001b[0mself\u001b[0m\u001b[1;33m[\u001b[0m\u001b[0mname\u001b[0m\u001b[1;33m]\u001b[0m\u001b[1;33m\u001b[0m\u001b[1;33m\u001b[0m\u001b[0m\n\u001b[1;32m-> 5130\u001b[1;33m             \u001b[1;32mreturn\u001b[0m \u001b[0mobject\u001b[0m\u001b[1;33m.\u001b[0m\u001b[0m__getattribute__\u001b[0m\u001b[1;33m(\u001b[0m\u001b[0mself\u001b[0m\u001b[1;33m,\u001b[0m \u001b[0mname\u001b[0m\u001b[1;33m)\u001b[0m\u001b[1;33m\u001b[0m\u001b[1;33m\u001b[0m\u001b[0m\n\u001b[0m\u001b[0;32m   5131\u001b[0m \u001b[1;33m\u001b[0m\u001b[0m\n\u001b[0;32m   5132\u001b[0m     \u001b[1;32mdef\u001b[0m \u001b[0m__setattr__\u001b[0m\u001b[1;33m(\u001b[0m\u001b[0mself\u001b[0m\u001b[1;33m,\u001b[0m \u001b[0mname\u001b[0m\u001b[1;33m:\u001b[0m \u001b[0mstr\u001b[0m\u001b[1;33m,\u001b[0m \u001b[0mvalue\u001b[0m\u001b[1;33m)\u001b[0m \u001b[1;33m->\u001b[0m \u001b[1;32mNone\u001b[0m\u001b[1;33m:\u001b[0m\u001b[1;33m\u001b[0m\u001b[1;33m\u001b[0m\u001b[0m\n",
      "\u001b[1;31mAttributeError\u001b[0m: 'DataFrame' object has no attribute 'uv_idex'"
     ]
    }
   ],
   "source": [
    "historical = Historical(date=df_file[df_file.date], latitude=df_file[df_file.latitude], longitude=df_file[df_file.longitude], uv_index=df_file[df_file.uv_idex]"
   ]
  },
  {
   "cell_type": "code",
   "execution_count": 43,
   "metadata": {},
   "outputs": [
    {
     "output_type": "execute_result",
     "data": {
      "text/plain": [
       "0     2018-01-09 12:00:00\n",
       "1     2018-01-09 12:00:00\n",
       "2     2018-01-09 12:00:00\n",
       "3     2018-01-09 12:00:00\n",
       "4     2018-01-09 12:00:00\n",
       "5     2018-01-09 12:00:00\n",
       "6     2018-01-09 12:00:00\n",
       "7     2018-01-09 12:00:00\n",
       "8     2018-01-09 12:00:00\n",
       "9     2018-01-09 12:00:00\n",
       "10    2018-01-09 12:00:00\n",
       "11    2018-01-09 12:00:00\n",
       "12    2018-01-09 12:00:00\n",
       "13    2018-01-09 12:00:00\n",
       "14    2018-01-09 12:00:00\n",
       "15    2018-01-09 12:00:00\n",
       "16    2018-01-09 12:00:00\n",
       "17    2018-01-09 12:00:00\n",
       "18    2018-01-09 12:00:00\n",
       "19    2018-01-09 12:00:00\n",
       "20    2018-01-09 12:00:00\n",
       "21    2018-01-09 12:00:00\n",
       "22    2018-01-09 12:00:00\n",
       "23    2018-01-09 12:00:00\n",
       "24    2018-01-09 12:00:00\n",
       "25    2018-01-09 12:00:00\n",
       "26    2018-01-09 12:00:00\n",
       "27    2018-01-09 12:00:00\n",
       "28    2018-01-09 12:00:00\n",
       "29    2018-01-09 12:00:00\n",
       "30    2018-01-09 12:00:00\n",
       "31    2018-01-09 12:00:00\n",
       "32    2018-01-09 12:00:00\n",
       "33    2018-01-09 12:00:00\n",
       "34    2018-01-09 12:00:00\n",
       "Name: date, dtype: object"
      ]
     },
     "metadata": {},
     "execution_count": 43
    }
   ],
   "source": [
    "df_file.date"
   ]
  },
  {
   "cell_type": "code",
   "execution_count": null,
   "metadata": {},
   "outputs": [],
   "source": [
    "# Create an engine that can talk to the database\n",
    "engine = create_engine(f\"sqlite:///{database_path}\")\n",
    "conn = engine.connect()"
   ]
  },
  {
   "cell_type": "code",
   "execution_count": null,
   "metadata": {},
   "outputs": [],
   "source": []
  },
  {
   "cell_type": "code",
   "execution_count": null,
   "metadata": {},
   "outputs": [],
   "source": [
    "# Query All Records in the the Database\n",
    "data = pd.read_sql(\"SELECT * FROM hstr_data\", conn)"
   ]
  },
  {
   "cell_type": "code",
   "execution_count": null,
   "metadata": {},
   "outputs": [],
   "source": [
    "# Query All Records in the the Database\n",
    "# Preview the Data\n",
    "data.head()"
   ]
  },
  {
   "cell_type": "code",
   "execution_count": null,
   "metadata": {},
   "outputs": [],
   "source": []
  }
 ]
}